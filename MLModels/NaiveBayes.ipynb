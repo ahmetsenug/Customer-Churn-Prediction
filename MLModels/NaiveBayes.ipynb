{
 "cells": [
  {
   "cell_type": "code",
   "execution_count": 1,
   "metadata": {},
   "outputs": [
    {
     "name": "stderr",
     "output_type": "stream",
     "text": [
      "2023-10-04 20:11:09.568814: I tensorflow/tsl/cuda/cudart_stub.cc:28] Could not find cuda drivers on your machine, GPU will not be used.\n",
      "2023-10-04 20:11:09.709714: E tensorflow/compiler/xla/stream_executor/cuda/cuda_dnn.cc:9342] Unable to register cuDNN factory: Attempting to register factory for plugin cuDNN when one has already been registered\n",
      "2023-10-04 20:11:09.709801: E tensorflow/compiler/xla/stream_executor/cuda/cuda_fft.cc:609] Unable to register cuFFT factory: Attempting to register factory for plugin cuFFT when one has already been registered\n",
      "2023-10-04 20:11:09.709860: E tensorflow/compiler/xla/stream_executor/cuda/cuda_blas.cc:1518] Unable to register cuBLAS factory: Attempting to register factory for plugin cuBLAS when one has already been registered\n",
      "2023-10-04 20:11:09.729276: I tensorflow/tsl/cuda/cudart_stub.cc:28] Could not find cuda drivers on your machine, GPU will not be used.\n",
      "2023-10-04 20:11:09.731621: I tensorflow/core/platform/cpu_feature_guard.cc:182] This TensorFlow binary is optimized to use available CPU instructions in performance-critical operations.\n",
      "To enable the following instructions: AVX2 FMA, in other operations, rebuild TensorFlow with the appropriate compiler flags.\n",
      "2023-10-04 20:11:12.576348: W tensorflow/compiler/tf2tensorrt/utils/py_utils.cc:38] TF-TRT Warning: Could not find TensorRT\n"
     ]
    }
   ],
   "source": [
    "import pandas as pd\n",
    "import numpy as np\n",
    "import tensorflow as tf\n",
    "\n",
    "data = pd.read_csv('churn.csv')\n",
    "\n",
    "data = data.dropna()\n",
    "\n",
    "encoded_data = pd.get_dummies(data, columns=['gender','region_category','joined_through_referral','membership_category','preferred_offer_types','medium_of_operation','internet_option','used_special_discount','offer_application_preference','past_complaint','complaint_status','feedback'])\n",
    "\n",
    "boolean_cols = ['gender_F','gender_M','region_category_City','region_category_Town','region_category_Village','joined_through_referral_No','joined_through_referral_Yes','membership_category_Basic Membership','membership_category_Gold Membership','membership_category_No Membership','membership_category_Platinum Membership','membership_category_Premium Membership','membership_category_Silver Membership','preferred_offer_types_Credit/Debit Card Offers','preferred_offer_types_Gift Vouchers/Coupons','preferred_offer_types_Without Offers','medium_of_operation_Both','medium_of_operation_Desktop','medium_of_operation_Smartphone','internet_option_Fiber_Optic','internet_option_Mobile_Data','internet_option_Wi-Fi','used_special_discount_No','used_special_discount_Yes','offer_application_preference_No','offer_application_preference_Yes','past_complaint_No','past_complaint_Yes','complaint_status_No Information Available','complaint_status_Not Applicable','complaint_status_Solved','complaint_status_Solved in Follow-up','complaint_status_Unsolved','feedback_No reason specified','feedback_Poor Customer Service','feedback_Poor Product Quality','feedback_Poor Website','feedback_Products always in Stock','feedback_Quality Customer Care','feedback_Reasonable Price','feedback_Too many ads','feedback_User Friendly Website']\n",
    "\n",
    "encoded_data[boolean_cols] = encoded_data[boolean_cols].replace({True: 1, False:0})\n",
    "\n",
    "encoded_data.drop('user_id',axis=1,inplace=True)\n",
    "encoded_data.drop('joining_date',axis=1,inplace=True)\n",
    "encoded_data.drop('last_visit_time',axis=1,inplace=True)\n",
    "encoded_data = encoded_data.rename(columns={'membership_category_Basic Membership':'membership_category_Basic_Membership'})\n",
    "encoded_data = encoded_data.rename(columns={'membership_category_Gold Membership':'membership_category_Gold_Membership'})\n",
    "encoded_data = encoded_data.rename(columns={'membership_category_No Membership':'membership_category_No_Membership'})\n",
    "encoded_data = encoded_data.rename(columns={'membership_category_Platinum Membership':'membership_category_Platinum_Membership'})\n",
    "encoded_data = encoded_data.rename(columns={'membership_category_Premium Membership':'membership_category_Premium_Membership'})\n",
    "encoded_data = encoded_data.rename(columns={'membership_category_Silver Membership':'membership_category_Silver_Membership'})\n",
    "encoded_data = encoded_data.rename(columns={'preferred_offer_types_Credit/Debit Card Offers':'preferred_offer_types_Credit_Debit_Card_Offers'})\n",
    "encoded_data = encoded_data.rename(columns={'preferred_offer_types_Gift Vouchers/Coupons':'preferred_offer_types_Gift_Vouchers_Coupons'})\n",
    "encoded_data = encoded_data.rename(columns={'preferred_offer_types_Without Offers':'preferred_offer_types_Without_Offers'})\n",
    "encoded_data = encoded_data.rename(columns={'internet_option_Wi-Fi':'internet_option_Wi_Fi'})\n",
    "encoded_data = encoded_data.rename(columns={'complaint_status_No Information Available':'complaint_status_No_Information_Available'})\n",
    "encoded_data = encoded_data.rename(columns={'complaint_status_Not Applicable':'complaint_status_Not_Applicable'})\n",
    "encoded_data = encoded_data.rename(columns={'complaint_status_Solved in Follow-up':'complaint_status_Solved_in_Follow_up'})\n",
    "encoded_data = encoded_data.rename(columns={'feedback_No reason specified':'feedback_No_reason_specified'})\n",
    "encoded_data = encoded_data.rename(columns={'feedback_Poor Customer Service':'feedback_Poor_Customer_Service'})\n",
    "encoded_data = encoded_data.rename(columns={'feedback_Poor Product Quality':'feedback_Poor_Product_Quality'})\n",
    "encoded_data = encoded_data.rename(columns={'feedback_Poor Website':'feedback_Poor_Website'})\n",
    "encoded_data = encoded_data.rename(columns={'feedback_Products always in Stock':'feedback_Products_always_in_Stock'})\n",
    "encoded_data = encoded_data.rename(columns={'feedback_Quality Customer Care':'feedback_Quality_Customer_Care'})\n",
    "encoded_data = encoded_data.rename(columns={'feedback_Reasonable Price':'feedback_Reasonable_Price'})\n",
    "encoded_data = encoded_data.rename(columns={'feedback_Too many ads':'feedback_Too_many_ads'})\n",
    "encoded_data = encoded_data.rename(columns={'feedback_User Friendly Website':'feedback_User_Friendly_Website'})\n",
    "from sklearn.model_selection import train_test_split\n",
    "\n",
    "X = encoded_data.drop(['churn_risk_score'],axis=1)\n",
    "y = encoded_data['churn_risk_score']\n",
    "\n",
    "X_train, X_test, y_train, y_test = train_test_split(X, y, test_size=0.2, random_state=0)\n",
    "\n",
    "from sklearn.preprocessing import StandardScaler\n",
    "\n",
    "standard_cols = ['age','days_since_last_login','avg_time_spent','avg_transaction_value','avg_frequency_login_days','points_in_wallet']\n",
    "sc = StandardScaler()\n",
    "X_train[standard_cols] = sc.fit_transform(X_train[standard_cols])\n",
    "X_test[standard_cols] = sc.fit_transform(X_test[standard_cols])"
   ]
  },
  {
   "attachments": {},
   "cell_type": "markdown",
   "metadata": {},
   "source": [
    "Naive Bayes"
   ]
  },
  {
   "cell_type": "code",
   "execution_count": 2,
   "metadata": {},
   "outputs": [
    {
     "data": {
      "text/html": [
       "<style>#sk-container-id-1 {color: black;}#sk-container-id-1 pre{padding: 0;}#sk-container-id-1 div.sk-toggleable {background-color: white;}#sk-container-id-1 label.sk-toggleable__label {cursor: pointer;display: block;width: 100%;margin-bottom: 0;padding: 0.3em;box-sizing: border-box;text-align: center;}#sk-container-id-1 label.sk-toggleable__label-arrow:before {content: \"▸\";float: left;margin-right: 0.25em;color: #696969;}#sk-container-id-1 label.sk-toggleable__label-arrow:hover:before {color: black;}#sk-container-id-1 div.sk-estimator:hover label.sk-toggleable__label-arrow:before {color: black;}#sk-container-id-1 div.sk-toggleable__content {max-height: 0;max-width: 0;overflow: hidden;text-align: left;background-color: #f0f8ff;}#sk-container-id-1 div.sk-toggleable__content pre {margin: 0.2em;color: black;border-radius: 0.25em;background-color: #f0f8ff;}#sk-container-id-1 input.sk-toggleable__control:checked~div.sk-toggleable__content {max-height: 200px;max-width: 100%;overflow: auto;}#sk-container-id-1 input.sk-toggleable__control:checked~label.sk-toggleable__label-arrow:before {content: \"▾\";}#sk-container-id-1 div.sk-estimator input.sk-toggleable__control:checked~label.sk-toggleable__label {background-color: #d4ebff;}#sk-container-id-1 div.sk-label input.sk-toggleable__control:checked~label.sk-toggleable__label {background-color: #d4ebff;}#sk-container-id-1 input.sk-hidden--visually {border: 0;clip: rect(1px 1px 1px 1px);clip: rect(1px, 1px, 1px, 1px);height: 1px;margin: -1px;overflow: hidden;padding: 0;position: absolute;width: 1px;}#sk-container-id-1 div.sk-estimator {font-family: monospace;background-color: #f0f8ff;border: 1px dotted black;border-radius: 0.25em;box-sizing: border-box;margin-bottom: 0.5em;}#sk-container-id-1 div.sk-estimator:hover {background-color: #d4ebff;}#sk-container-id-1 div.sk-parallel-item::after {content: \"\";width: 100%;border-bottom: 1px solid gray;flex-grow: 1;}#sk-container-id-1 div.sk-label:hover label.sk-toggleable__label {background-color: #d4ebff;}#sk-container-id-1 div.sk-serial::before {content: \"\";position: absolute;border-left: 1px solid gray;box-sizing: border-box;top: 0;bottom: 0;left: 50%;z-index: 0;}#sk-container-id-1 div.sk-serial {display: flex;flex-direction: column;align-items: center;background-color: white;padding-right: 0.2em;padding-left: 0.2em;position: relative;}#sk-container-id-1 div.sk-item {position: relative;z-index: 1;}#sk-container-id-1 div.sk-parallel {display: flex;align-items: stretch;justify-content: center;background-color: white;position: relative;}#sk-container-id-1 div.sk-item::before, #sk-container-id-1 div.sk-parallel-item::before {content: \"\";position: absolute;border-left: 1px solid gray;box-sizing: border-box;top: 0;bottom: 0;left: 50%;z-index: -1;}#sk-container-id-1 div.sk-parallel-item {display: flex;flex-direction: column;z-index: 1;position: relative;background-color: white;}#sk-container-id-1 div.sk-parallel-item:first-child::after {align-self: flex-end;width: 50%;}#sk-container-id-1 div.sk-parallel-item:last-child::after {align-self: flex-start;width: 50%;}#sk-container-id-1 div.sk-parallel-item:only-child::after {width: 0;}#sk-container-id-1 div.sk-dashed-wrapped {border: 1px dashed gray;margin: 0 0.4em 0.5em 0.4em;box-sizing: border-box;padding-bottom: 0.4em;background-color: white;}#sk-container-id-1 div.sk-label label {font-family: monospace;font-weight: bold;display: inline-block;line-height: 1.2em;}#sk-container-id-1 div.sk-label-container {text-align: center;}#sk-container-id-1 div.sk-container {/* jupyter's `normalize.less` sets `[hidden] { display: none; }` but bootstrap.min.css set `[hidden] { display: none !important; }` so we also need the `!important` here to be able to override the default hidden behavior on the sphinx rendered scikit-learn.org. See: https://github.com/scikit-learn/scikit-learn/issues/21755 */display: inline-block !important;position: relative;}#sk-container-id-1 div.sk-text-repr-fallback {display: none;}</style><div id=\"sk-container-id-1\" class=\"sk-top-container\"><div class=\"sk-text-repr-fallback\"><pre>GaussianNB()</pre><b>In a Jupyter environment, please rerun this cell to show the HTML representation or trust the notebook. <br />On GitHub, the HTML representation is unable to render, please try loading this page with nbviewer.org.</b></div><div class=\"sk-container\" hidden><div class=\"sk-item\"><div class=\"sk-estimator sk-toggleable\"><input class=\"sk-toggleable__control sk-hidden--visually\" id=\"sk-estimator-id-1\" type=\"checkbox\" checked><label for=\"sk-estimator-id-1\" class=\"sk-toggleable__label sk-toggleable__label-arrow\">GaussianNB</label><div class=\"sk-toggleable__content\"><pre>GaussianNB()</pre></div></div></div></div></div>"
      ],
      "text/plain": [
       "GaussianNB()"
      ]
     },
     "execution_count": 2,
     "metadata": {},
     "output_type": "execute_result"
    }
   ],
   "source": [
    "from sklearn.naive_bayes import GaussianNB\n",
    "NBclassifier = GaussianNB()\n",
    "NBclassifier.fit(X_train.values,y_train.values)"
   ]
  },
  {
   "attachments": {},
   "cell_type": "markdown",
   "metadata": {},
   "source": [
    "Confusion Matrix"
   ]
  },
  {
   "cell_type": "code",
   "execution_count": 3,
   "metadata": {},
   "outputs": [
    {
     "name": "stderr",
     "output_type": "stream",
     "text": [
      "/home/gunes/Bitirme/django-venv/lib/python3.10/site-packages/sklearn/base.py:458: UserWarning: X has feature names, but GaussianNB was fitted without feature names\n",
      "  warnings.warn(\n"
     ]
    },
    {
     "data": {
      "image/png": "[encoded data removed]",
      "text/plain": [
       "<Figure size 600x400 with 2 Axes>"
      ]
     },
     "metadata": {},
     "output_type": "display_data"
    }
   ],
   "source": [
    "from sklearn.metrics import confusion_matrix, accuracy_score\n",
    "y_pred = NBclassifier.predict(X_test)\n",
    "cm = confusion_matrix(y_test,y_pred)\n",
    "\n",
    "import seaborn as sns\n",
    "import matplotlib.pyplot as plt\n",
    "\n",
    "def plot_confusion_matrix(confusion_matrix, labels_A, labels_P):\n",
    "    plt.figure(figsize=(6, 4))\n",
    "    ax = sns.heatmap(confusion_matrix, annot=True, fmt='d', cmap='Blues')\n",
    "    ax.set_xticklabels(labels_A, rotation=45)\n",
    "    ax.set_yticklabels(labels_P, rotation=0)\n",
    "    ax.set_xlabel('Predicted')\n",
    "    ax.set_ylabel('Actual')\n",
    "    plt.title('Confusion Matrix')\n",
    "\n",
    "confusion_matrix = cm\n",
    "labels_A = ['Positive','Negative']\n",
    "labels_P = ['Positive','Negative']\n",
    "\n",
    "\n",
    "\n",
    "plot_confusion_matrix(confusion_matrix, labels_A, labels_P)\n",
    "plt.show()"
   ]
  },
  {
   "attachments": {},
   "cell_type": "markdown",
   "metadata": {},
   "source": [
    "k-Fold Cross Validation"
   ]
  },
  {
   "cell_type": "code",
   "execution_count": 4,
   "metadata": {},
   "outputs": [
    {
     "name": "stdout",
     "output_type": "stream",
     "text": [
      "Accuracy : %83.81 \n",
      "Standart Deviation: %0.66 \n"
     ]
    }
   ],
   "source": [
    "from sklearn.model_selection import cross_val_score\n",
    "accuracy = cross_val_score(estimator=NBclassifier, X= X_train, y=y_train, cv=10)\n",
    "print(\"Accuracy : %{:.2f} \".format(accuracy.mean()*100))\n",
    "print(\"Standart Deviation: %{:.2f} \".format(accuracy.std()*100))"
   ]
  },
  {
   "cell_type": "code",
   "execution_count": 5,
   "metadata": {},
   "outputs": [
    {
     "data": {
      "text/plain": [
       "['/home/gunes/Bitirme/django-venv/src/churn/savedModels/NB.joblib']"
      ]
     },
     "execution_count": 5,
     "metadata": {},
     "output_type": "execute_result"
    }
   ],
   "source": [
    "from joblib import dump\n",
    "dump(NBclassifier,'/home/gunes/Bitirme/django-venv/src/churn/savedModels/NB.joblib')"
   ]
  }
 ],
 "metadata": {
  "kernelspec": {
   "display_name": "deneme",
   "language": "python",
   "name": "python3"
  },
  "language_info": {
   "codemirror_mode": {
    "name": "ipython",
    "version": 3
   },
   "file_extension": ".py",
   "mimetype": "text/x-python",
   "name": "python",
   "nbconvert_exporter": "python",
   "pygments_lexer": "ipython3",
   "version": "3.10.12"
  },
  "orig_nbformat": 4
 },
 "nbformat": 4,
 "nbformat_minor": 2
}
