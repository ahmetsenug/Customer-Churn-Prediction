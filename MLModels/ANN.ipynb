{
 "cells": [
  {
   "cell_type": "code",
   "execution_count": 17,
   "metadata": {},
   "outputs": [],
   "source": [
    "import pandas as pd\n",
    "import numpy as np\n",
    "import tensorflow as tf\n",
    "\n",
    "data = pd.read_csv('churn.csv')\n",
    "\n",
    "data = data.dropna()\n",
    "\n",
    "encoded_data = pd.get_dummies(data, columns=['gender','region_category','joined_through_referral','membership_category','preferred_offer_types','medium_of_operation','internet_option','used_special_discount','offer_application_preference','past_complaint','complaint_status','feedback'])\n",
    "\n",
    "boolean_cols = ['gender_F','gender_M','region_category_City','region_category_Town','region_category_Village','joined_through_referral_No','joined_through_referral_Yes','membership_category_Basic Membership','membership_category_Gold Membership','membership_category_No Membership','membership_category_Platinum Membership','membership_category_Premium Membership','membership_category_Silver Membership','preferred_offer_types_Credit/Debit Card Offers','preferred_offer_types_Gift Vouchers/Coupons','preferred_offer_types_Without Offers','medium_of_operation_Both','medium_of_operation_Desktop','medium_of_operation_Smartphone','internet_option_Fiber_Optic','internet_option_Mobile_Data','internet_option_Wi-Fi','used_special_discount_No','used_special_discount_Yes','offer_application_preference_No','offer_application_preference_Yes','past_complaint_No','past_complaint_Yes','complaint_status_No Information Available','complaint_status_Not Applicable','complaint_status_Solved','complaint_status_Solved in Follow-up','complaint_status_Unsolved','feedback_No reason specified','feedback_Poor Customer Service','feedback_Poor Product Quality','feedback_Poor Website','feedback_Products always in Stock','feedback_Quality Customer Care','feedback_Reasonable Price','feedback_Too many ads','feedback_User Friendly Website']\n",
    "\n",
    "encoded_data[boolean_cols] = encoded_data[boolean_cols].replace({True: 1, False:0})\n",
    "\n",
    "encoded_data.drop('user_id',axis=1,inplace=True)\n",
    "encoded_data.drop('joining_date',axis=1,inplace=True)\n",
    "encoded_data.drop('last_visit_time',axis=1,inplace=True)\n",
    "encoded_data = encoded_data.rename(columns={'membership_category_Basic Membership':'membership_category_Basic_Membership'})\n",
    "encoded_data = encoded_data.rename(columns={'membership_category_Gold Membership':'membership_category_Gold_Membership'})\n",
    "encoded_data = encoded_data.rename(columns={'membership_category_No Membership':'membership_category_No_Membership'})\n",
    "encoded_data = encoded_data.rename(columns={'membership_category_Platinum Membership':'membership_category_Platinum_Membership'})\n",
    "encoded_data = encoded_data.rename(columns={'membership_category_Premium Membership':'membership_category_Premium_Membership'})\n",
    "encoded_data = encoded_data.rename(columns={'membership_category_Silver Membership':'membership_category_Silver_Membership'})\n",
    "encoded_data = encoded_data.rename(columns={'preferred_offer_types_Credit/Debit Card Offers':'preferred_offer_types_Credit_Debit_Card_Offers'})\n",
    "encoded_data = encoded_data.rename(columns={'preferred_offer_types_Gift Vouchers/Coupons':'preferred_offer_types_Gift_Vouchers_Coupons'})\n",
    "encoded_data = encoded_data.rename(columns={'preferred_offer_types_Without Offers':'preferred_offer_types_Without_Offers'})\n",
    "encoded_data = encoded_data.rename(columns={'internet_option_Wi-Fi':'internet_option_Wi_Fi'})\n",
    "encoded_data = encoded_data.rename(columns={'complaint_status_No Information Available':'complaint_status_No_Information_Available'})\n",
    "encoded_data = encoded_data.rename(columns={'complaint_status_Not Applicable':'complaint_status_Not_Applicable'})\n",
    "encoded_data = encoded_data.rename(columns={'complaint_status_Solved in Follow-up':'complaint_status_Solved_in_Follow_up'})\n",
    "encoded_data = encoded_data.rename(columns={'feedback_No reason specified':'feedback_No_reason_specified'})\n",
    "encoded_data = encoded_data.rename(columns={'feedback_Poor Customer Service':'feedback_Poor_Customer_Service'})\n",
    "encoded_data = encoded_data.rename(columns={'feedback_Poor Product Quality':'feedback_Poor_Product_Quality'})\n",
    "encoded_data = encoded_data.rename(columns={'feedback_Poor Website':'feedback_Poor_Website'})\n",
    "encoded_data = encoded_data.rename(columns={'feedback_Products always in Stock':'feedback_Products_always_in_Stock'})\n",
    "encoded_data = encoded_data.rename(columns={'feedback_Quality Customer Care':'feedback_Quality_Customer_Care'})\n",
    "encoded_data = encoded_data.rename(columns={'feedback_Reasonable Price':'feedback_Reasonable_Price'})\n",
    "encoded_data = encoded_data.rename(columns={'feedback_Too many ads':'feedback_Too_many_ads'})\n",
    "encoded_data = encoded_data.rename(columns={'feedback_User Friendly Website':'feedback_User_Friendly_Website'})\n",
    "from sklearn.model_selection import train_test_split\n",
    "\n",
    "X = encoded_data.drop(['churn_risk_score'],axis=1)\n",
    "y = encoded_data['churn_risk_score']\n",
    "\n",
    "X_train, X_test, y_train, y_test = train_test_split(X, y, test_size=0.2, random_state=0)\n",
    "\n",
    "from sklearn.preprocessing import StandardScaler\n",
    "\n",
    "standard_cols = ['age','days_since_last_login','avg_time_spent','avg_transaction_value','avg_frequency_login_days','points_in_wallet']\n",
    "sc = StandardScaler()\n",
    "X_train[standard_cols] = sc.fit_transform(X_train[standard_cols])\n",
    "X_test[standard_cols] = sc.fit_transform(X_test[standard_cols])\n"
   ]
  },
  {
   "attachments": {},
   "cell_type": "markdown",
   "metadata": {},
   "source": [
    "ANN"
   ]
  },
  {
   "cell_type": "code",
   "execution_count": 18,
   "metadata": {},
   "outputs": [],
   "source": [
    "ann = tf.keras.models.Sequential()"
   ]
  },
  {
   "attachments": {},
   "cell_type": "markdown",
   "metadata": {},
   "source": [
    "First Layer"
   ]
  },
  {
   "cell_type": "code",
   "execution_count": 19,
   "metadata": {},
   "outputs": [],
   "source": [
    "ann.add(tf.keras.layers.Dense(units=40,activation='relu'))"
   ]
  },
  {
   "attachments": {},
   "cell_type": "markdown",
   "metadata": {},
   "source": [
    "Second Layer"
   ]
  },
  {
   "cell_type": "code",
   "execution_count": 20,
   "metadata": {},
   "outputs": [],
   "source": [
    "ann.add(tf.keras.layers.Dense(units=40,activation='relu'))"
   ]
  },
  {
   "attachments": {},
   "cell_type": "markdown",
   "metadata": {},
   "source": [
    "Output Layer"
   ]
  },
  {
   "cell_type": "code",
   "execution_count": 21,
   "metadata": {},
   "outputs": [],
   "source": [
    "ann.add(tf.keras.layers.Dense(units=1,activation='sigmoid'))"
   ]
  },
  {
   "attachments": {},
   "cell_type": "markdown",
   "metadata": {},
   "source": [
    "compile"
   ]
  },
  {
   "cell_type": "code",
   "execution_count": 22,
   "metadata": {},
   "outputs": [],
   "source": [
    "ann.compile(optimizer= 'adam' , loss= 'binary_crossentropy', metrics= ['accuracy'])"
   ]
  },
  {
   "cell_type": "code",
   "execution_count": 23,
   "metadata": {},
   "outputs": [
    {
     "name": "stdout",
     "output_type": "stream",
     "text": [
      "Epoch 1/10\n",
      "572/572 [==============================] - 4s 5ms/step - loss: 0.3424 - accuracy: 0.8185\n",
      "Epoch 2/10\n",
      "572/572 [==============================] - 3s 5ms/step - loss: 0.2587 - accuracy: 0.8595\n",
      "Epoch 3/10\n",
      "572/572 [==============================] - 3s 5ms/step - loss: 0.2548 - accuracy: 0.8672\n",
      "Epoch 4/10\n",
      "572/572 [==============================] - 2s 4ms/step - loss: 0.2510 - accuracy: 0.8722\n",
      "Epoch 5/10\n",
      "572/572 [==============================] - 2s 4ms/step - loss: 0.2477 - accuracy: 0.8768\n",
      "Epoch 6/10\n",
      "572/572 [==============================] - 2s 4ms/step - loss: 0.2452 - accuracy: 0.8843\n",
      "Epoch 7/10\n",
      "572/572 [==============================] - 2s 4ms/step - loss: 0.2405 - accuracy: 0.8897\n",
      "Epoch 8/10\n",
      "572/572 [==============================] - 2s 4ms/step - loss: 0.2349 - accuracy: 0.8957\n",
      "Epoch 9/10\n",
      "572/572 [==============================] - 3s 5ms/step - loss: 0.2186 - accuracy: 0.9135\n",
      "Epoch 10/10\n",
      "572/572 [==============================] - 2s 4ms/step - loss: 0.1982 - accuracy: 0.9238\n"
     ]
    },
    {
     "data": {
      "text/plain": [
       "<keras.src.callbacks.History at 0x7fbdb0627250>"
      ]
     },
     "execution_count": 23,
     "metadata": {},
     "output_type": "execute_result"
    }
   ],
   "source": [
    "ann.fit(X_train.values, y_train.values, batch_size=32,epochs=10)"
   ]
  },
  {
   "attachments": {},
   "cell_type": "markdown",
   "metadata": {},
   "source": [
    "Confusion Matrix"
   ]
  },
  {
   "cell_type": "code",
   "execution_count": 24,
   "metadata": {},
   "outputs": [
    {
     "name": "stdout",
     "output_type": "stream",
     "text": [
      "143/143 [==============================] - 0s 3ms/step\n"
     ]
    },
    {
     "data": {
      "image/png": "[encoded data removed]",
      "text/plain": [
       "<Figure size 600x400 with 2 Axes>"
      ]
     },
     "metadata": {},
     "output_type": "display_data"
    }
   ],
   "source": [
    "from sklearn.metrics import confusion_matrix\n",
    "y_pred = ann.predict(X_test)\n",
    "y_pred = (y_pred > 0.5)\n",
    "cm = confusion_matrix(y_test,y_pred)\n",
    "\n",
    "import seaborn as sns\n",
    "import matplotlib.pyplot as plt\n",
    "\n",
    "def plot_confusion_matrix(confusion_matrix, labels_A, labels_P):\n",
    "    plt.figure(figsize=(6, 4))\n",
    "    ax = sns.heatmap(confusion_matrix, annot=True, fmt='d', cmap='Blues')\n",
    "    ax.set_xticklabels(labels_A, rotation=45)\n",
    "    ax.set_yticklabels(labels_P, rotation=0)\n",
    "    ax.set_xlabel('Predicted')\n",
    "    ax.set_ylabel('Actual')\n",
    "    plt.title('Confusion Matrix')\n",
    "\n",
    "confusion_matrix = cm\n",
    "labels_A = ['Positive','Negative']\n",
    "labels_P = ['Positive','Negative']\n",
    "\n",
    "\n",
    "\n",
    "plot_confusion_matrix(confusion_matrix, labels_A, labels_P)\n",
    "plt.show()"
   ]
  },
  {
   "cell_type": "code",
   "execution_count": 25,
   "metadata": {},
   "outputs": [
    {
     "data": {
      "text/plain": [
       "0.9254318827902909"
      ]
     },
     "execution_count": 25,
     "metadata": {},
     "output_type": "execute_result"
    }
   ],
   "source": [
    "from sklearn.metrics import accuracy_score\n",
    "accuracy_score(y_test,y_pred)"
   ]
  },
  {
   "cell_type": "code",
   "execution_count": 26,
   "metadata": {},
   "outputs": [],
   "source": [
    "from joblib import dump"
   ]
  },
  {
   "cell_type": "code",
   "execution_count": 28,
   "metadata": {},
   "outputs": [
    {
     "data": {
      "text/plain": [
       "['/home/gunes/Bitirme/django-venv/src/churn/savedModels/ann.joblib']"
      ]
     },
     "execution_count": 28,
     "metadata": {},
     "output_type": "execute_result"
    }
   ],
   "source": [
    "dump(ann,'/home/gunes/Bitirme/django-venv/src/churn/savedModels/ann.joblib')"
   ]
  }
 ],
 "metadata": {
  "kernelspec": {
   "display_name": "deneme",
   "language": "python",
   "name": "python3"
  },
  "language_info": {
   "codemirror_mode": {
    "name": "ipython",
    "version": 3
   },
   "file_extension": ".py",
   "mimetype": "text/x-python",
   "name": "python",
   "nbconvert_exporter": "python",
   "pygments_lexer": "ipython3",
   "version": "3.10.12"
  },
  "orig_nbformat": 4
 },
 "nbformat": 4,
 "nbformat_minor": 2
}
